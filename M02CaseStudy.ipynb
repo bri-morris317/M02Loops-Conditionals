{
 "cells": [
  {
   "cell_type": "code",
   "execution_count": 27,
   "id": "14df09b8",
   "metadata": {},
   "outputs": [
    {
     "name": "stdout",
     "output_type": "stream",
     "text": [
      "Enter student last name [type ZZZ to quit]: Morris\n",
      "Enter student first name Brionna\n",
      "Enter your GPA 4.5\n",
      "the student has made the Dean's List\n",
      "Enter student last name [type ZZZ to quit]: Ramsey\n",
      "Enter student first name Gordon\n",
      "Enter your GPA 2.1\n",
      "you have not made the Dean's List or Honor Roll\n",
      "Enter student last name [type ZZZ to quit]: Malkovich\n",
      "Enter student first name John\n",
      "Enter your GPA 3.5\n",
      "the student has made the Dean's List\n",
      "Enter student last name [type ZZZ to quit]: Misu\n",
      "Enter student first name Tira\n",
      "Enter your GPA 3.25\n",
      "the student has made the Honor Roll\n",
      "Enter student last name [type ZZZ to quit]: Fishback\n",
      "Enter student first name Dominique\n",
      "Enter your GPA 3.8\n",
      "the student has made the Dean's List\n",
      "Enter student last name [type ZZZ to quit]: ZZZ\n"
     ]
    }
   ],
   "source": [
    "_author_=\"Brionna Morris\"\n",
    "_title_=\"GPA Achievement\"\n",
    "_description_=\"informs students of their honor roll and dean's list status.\"\n",
    "\n",
    "while True:\n",
    "    value = input(\"Enter student last name [type ZZZ to quit]: \")\n",
    "    if value == \"ZZZ\":\n",
    "        break\n",
    "    firstName = input(\"Enter student first name \")\n",
    "    number = input(\"Enter your GPA \")\n",
    "    if number >= '3.5':\n",
    "        print(\"the student has made the Dean's List\")\n",
    "        \n",
    "    elif number >= '3.25':\n",
    "        print('the student has made the Honor Roll')\n",
    "        \n",
    "    else:\n",
    "        print(\"you have not made the Dean's List or Honor Roll\")"
   ]
  },
  {
   "cell_type": "code",
   "execution_count": null,
   "id": "bac4655b",
   "metadata": {},
   "outputs": [],
   "source": []
  }
 ],
 "metadata": {
  "kernelspec": {
   "display_name": "Python 3 (ipykernel)",
   "language": "python",
   "name": "python3"
  },
  "language_info": {
   "codemirror_mode": {
    "name": "ipython",
    "version": 3
   },
   "file_extension": ".py",
   "mimetype": "text/x-python",
   "name": "python",
   "nbconvert_exporter": "python",
   "pygments_lexer": "ipython3",
   "version": "3.9.13"
  }
 },
 "nbformat": 4,
 "nbformat_minor": 5
}
